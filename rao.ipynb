{
 "cells": [
  {
   "cell_type": "code",
   "execution_count": 7,
   "metadata": {},
   "outputs": [],
   "source": [
    "import bittensor as bt"
   ]
  },
  {
   "cell_type": "code",
   "execution_count": 10,
   "metadata": {},
   "outputs": [],
   "source": [
    "sub = bt.subtensor('local')"
   ]
  },
  {
   "cell_type": "code",
   "execution_count": 11,
   "metadata": {},
   "outputs": [
    {
     "data": {
      "text/plain": [
       "[0, 3]"
      ]
     },
     "execution_count": 11,
     "metadata": {},
     "output_type": "execute_result"
    }
   ],
   "source": [
    "sub.get_subnets()"
   ]
  },
  {
   "cell_type": "code",
   "execution_count": 22,
   "metadata": {},
   "outputs": [],
   "source": [
    "alice = bt.wallet('alice')\n",
    "bob = bt.wallet('bob')"
   ]
  },
  {
   "cell_type": "code",
   "execution_count": 5,
   "metadata": {},
   "outputs": [
    {
     "data": {
      "text/html": [
       "<pre style=\"white-space:pre;overflow-x:auto;line-height:normal;font-family:Menlo,'DejaVu Sans Mono',consolas,'Courier New',monospace\"><span style=\"color: #800000; text-decoration-color: #800000\">╭─────────────────────────────── </span><span style=\"color: #800000; text-decoration-color: #800000; font-weight: bold\">Traceback </span><span style=\"color: #bf7f7f; text-decoration-color: #bf7f7f; font-weight: bold\">(most recent call last)</span><span style=\"color: #800000; text-decoration-color: #800000\"> ────────────────────────────────╮</span>\n",
       "<span style=\"color: #800000; text-decoration-color: #800000\">│</span> in <span style=\"color: #00ff00; text-decoration-color: #00ff00\">&lt;module&gt;</span>:<span style=\"color: #0000ff; text-decoration-color: #0000ff\">18</span>                                                                                   <span style=\"color: #800000; text-decoration-color: #800000\">│</span>\n",
       "<span style=\"color: #800000; text-decoration-color: #800000\">│</span>                                                                                                  <span style=\"color: #800000; text-decoration-color: #800000\">│</span>\n",
       "<span style=\"color: #800000; text-decoration-color: #800000\">│</span>   <span style=\"color: #7f7f7f; text-decoration-color: #7f7f7f\">15 </span>extrinsic = sub.substrate.create_signed_extrinsic(                                          <span style=\"color: #800000; text-decoration-color: #800000\">│</span>\n",
       "<span style=\"color: #800000; text-decoration-color: #800000\">│</span>   <span style=\"color: #7f7f7f; text-decoration-color: #7f7f7f\">16 </span><span style=\"color: #7f7f7f; text-decoration-color: #7f7f7f\">│   </span>call=call, keypair=alice                                                                <span style=\"color: #800000; text-decoration-color: #800000\">│</span>\n",
       "<span style=\"color: #800000; text-decoration-color: #800000\">│</span>   <span style=\"color: #7f7f7f; text-decoration-color: #7f7f7f\">17 </span>)                                                                                           <span style=\"color: #800000; text-decoration-color: #800000\">│</span>\n",
       "<span style=\"color: #800000; text-decoration-color: #800000\">│</span> <span style=\"color: #800000; text-decoration-color: #800000\">❱ </span>18 response = sub.substrate.submit_extrinsic(                                                  <span style=\"color: #800000; text-decoration-color: #800000\">│</span>\n",
       "<span style=\"color: #800000; text-decoration-color: #800000\">│</span>   <span style=\"color: #7f7f7f; text-decoration-color: #7f7f7f\">19 </span><span style=\"color: #7f7f7f; text-decoration-color: #7f7f7f\">│   </span>extrinsic,                                                                              <span style=\"color: #800000; text-decoration-color: #800000\">│</span>\n",
       "<span style=\"color: #800000; text-decoration-color: #800000\">│</span>   <span style=\"color: #7f7f7f; text-decoration-color: #7f7f7f\">20 </span><span style=\"color: #7f7f7f; text-decoration-color: #7f7f7f\">│   </span>wait_for_finalization=<span style=\"color: #0000ff; text-decoration-color: #0000ff\">True</span>,                                                             <span style=\"color: #800000; text-decoration-color: #800000\">│</span>\n",
       "<span style=\"color: #800000; text-decoration-color: #800000\">│</span>   <span style=\"color: #7f7f7f; text-decoration-color: #7f7f7f\">21 </span>)                                                                                           <span style=\"color: #800000; text-decoration-color: #800000\">│</span>\n",
       "<span style=\"color: #800000; text-decoration-color: #800000\">│</span>                                                                                                  <span style=\"color: #800000; text-decoration-color: #800000\">│</span>\n",
       "<span style=\"color: #800000; text-decoration-color: #800000\">│</span> <span style=\"color: #bfbf7f; text-decoration-color: #bfbf7f\">/opt/homebrew/lib/python3.11/site-packages/substrateinterface/</span><span style=\"color: #808000; text-decoration-color: #808000; font-weight: bold\">base.py</span>:<span style=\"color: #0000ff; text-decoration-color: #0000ff\">1788</span> in <span style=\"color: #00ff00; text-decoration-color: #00ff00\">submit_extrinsic</span>   <span style=\"color: #800000; text-decoration-color: #800000\">│</span>\n",
       "<span style=\"color: #800000; text-decoration-color: #800000\">│</span>                                                                                                  <span style=\"color: #800000; text-decoration-color: #800000\">│</span>\n",
       "<span style=\"color: #800000; text-decoration-color: #800000\">│</span>   <span style=\"color: #7f7f7f; text-decoration-color: #7f7f7f\">1785 </span><span style=\"color: #7f7f7f; text-decoration-color: #7f7f7f\">│   │   │   │   │   </span>}                                                                     <span style=\"color: #800000; text-decoration-color: #800000\">│</span>\n",
       "<span style=\"color: #800000; text-decoration-color: #800000\">│</span>   <span style=\"color: #7f7f7f; text-decoration-color: #7f7f7f\">1786 </span><span style=\"color: #7f7f7f; text-decoration-color: #7f7f7f\">│   │   </span>                                                                                  <span style=\"color: #800000; text-decoration-color: #800000\">│</span>\n",
       "<span style=\"color: #800000; text-decoration-color: #800000\">│</span>   <span style=\"color: #7f7f7f; text-decoration-color: #7f7f7f\">1787 </span><span style=\"color: #7f7f7f; text-decoration-color: #7f7f7f\">│   │   </span><span style=\"color: #0000ff; text-decoration-color: #0000ff\">if</span> wait_for_inclusion <span style=\"color: #ff00ff; text-decoration-color: #ff00ff\">or</span> wait_for_finalization:                                   <span style=\"color: #800000; text-decoration-color: #800000\">│</span>\n",
       "<span style=\"color: #800000; text-decoration-color: #800000\">│</span> <span style=\"color: #800000; text-decoration-color: #800000\">❱ </span>1788 <span style=\"color: #7f7f7f; text-decoration-color: #7f7f7f\">│   │   │   </span>response = <span style=\"color: #00ffff; text-decoration-color: #00ffff\">self</span>.rpc_request(                                                  <span style=\"color: #800000; text-decoration-color: #800000\">│</span>\n",
       "<span style=\"color: #800000; text-decoration-color: #800000\">│</span>   <span style=\"color: #7f7f7f; text-decoration-color: #7f7f7f\">1789 </span><span style=\"color: #7f7f7f; text-decoration-color: #7f7f7f\">│   │   │   │   </span><span style=\"color: #808000; text-decoration-color: #808000\">\"author_submitAndWatchExtrinsic\"</span>,                                         <span style=\"color: #800000; text-decoration-color: #800000\">│</span>\n",
       "<span style=\"color: #800000; text-decoration-color: #800000\">│</span>   <span style=\"color: #7f7f7f; text-decoration-color: #7f7f7f\">1790 </span><span style=\"color: #7f7f7f; text-decoration-color: #7f7f7f\">│   │   │   │   </span>[<span style=\"color: #00ffff; text-decoration-color: #00ffff\">str</span>(extrinsic.data)],                                                    <span style=\"color: #800000; text-decoration-color: #800000\">│</span>\n",
       "<span style=\"color: #800000; text-decoration-color: #800000\">│</span>   <span style=\"color: #7f7f7f; text-decoration-color: #7f7f7f\">1791 </span><span style=\"color: #7f7f7f; text-decoration-color: #7f7f7f\">│   │   │   │   </span>result_handler=result_handler                                             <span style=\"color: #800000; text-decoration-color: #800000\">│</span>\n",
       "<span style=\"color: #800000; text-decoration-color: #800000\">│</span>                                                                                                  <span style=\"color: #800000; text-decoration-color: #800000\">│</span>\n",
       "<span style=\"color: #800000; text-decoration-color: #800000\">│</span> <span style=\"color: #bfbf7f; text-decoration-color: #bfbf7f\">/opt/homebrew/lib/python3.11/site-packages/substrateinterface/</span><span style=\"color: #808000; text-decoration-color: #808000; font-weight: bold\">base.py</span>:<span style=\"color: #0000ff; text-decoration-color: #0000ff\">299</span> in <span style=\"color: #00ff00; text-decoration-color: #00ff00\">rpc_request</span>         <span style=\"color: #800000; text-decoration-color: #800000\">│</span>\n",
       "<span style=\"color: #800000; text-decoration-color: #800000\">│</span>                                                                                                  <span style=\"color: #800000; text-decoration-color: #800000\">│</span>\n",
       "<span style=\"color: #800000; text-decoration-color: #800000\">│</span>   <span style=\"color: #7f7f7f; text-decoration-color: #7f7f7f\"> 296 </span><span style=\"color: #7f7f7f; text-decoration-color: #7f7f7f\">│   │   │   │   │   │   </span>                                                                  <span style=\"color: #800000; text-decoration-color: #800000\">│</span>\n",
       "<span style=\"color: #800000; text-decoration-color: #800000\">│</span>   <span style=\"color: #7f7f7f; text-decoration-color: #7f7f7f\"> 297 </span><span style=\"color: #7f7f7f; text-decoration-color: #7f7f7f\">│   │   │   │   │   │   </span><span style=\"color: #7f7f7f; text-decoration-color: #7f7f7f\"># Check if response has error</span>                                     <span style=\"color: #800000; text-decoration-color: #800000\">│</span>\n",
       "<span style=\"color: #800000; text-decoration-color: #800000\">│</span>   <span style=\"color: #7f7f7f; text-decoration-color: #7f7f7f\"> 298 </span><span style=\"color: #7f7f7f; text-decoration-color: #7f7f7f\">│   │   │   │   │   │   </span><span style=\"color: #0000ff; text-decoration-color: #0000ff\">if</span> <span style=\"color: #808000; text-decoration-color: #808000\">'error'</span> <span style=\"color: #ff00ff; text-decoration-color: #ff00ff\">in</span> message:                                            <span style=\"color: #800000; text-decoration-color: #800000\">│</span>\n",
       "<span style=\"color: #800000; text-decoration-color: #800000\">│</span> <span style=\"color: #800000; text-decoration-color: #800000\">❱ </span> 299 <span style=\"color: #7f7f7f; text-decoration-color: #7f7f7f\">│   │   │   │   │   │   │   </span><span style=\"color: #0000ff; text-decoration-color: #0000ff\">raise</span> SubstrateRequestException(message[<span style=\"color: #808000; text-decoration-color: #808000\">'error'</span>])             <span style=\"color: #800000; text-decoration-color: #800000\">│</span>\n",
       "<span style=\"color: #800000; text-decoration-color: #800000\">│</span>   <span style=\"color: #7f7f7f; text-decoration-color: #7f7f7f\"> 300 </span><span style=\"color: #7f7f7f; text-decoration-color: #7f7f7f\">│   │   │   │   │   │   </span>                                                                  <span style=\"color: #800000; text-decoration-color: #800000\">│</span>\n",
       "<span style=\"color: #800000; text-decoration-color: #800000\">│</span>   <span style=\"color: #7f7f7f; text-decoration-color: #7f7f7f\"> 301 </span><span style=\"color: #7f7f7f; text-decoration-color: #7f7f7f\">│   │   │   │   │   │   </span><span style=\"color: #7f7f7f; text-decoration-color: #7f7f7f\"># If result handler is set, pass result through and loop until h</span>  <span style=\"color: #800000; text-decoration-color: #800000\">│</span>\n",
       "<span style=\"color: #800000; text-decoration-color: #800000\">│</span>   <span style=\"color: #7f7f7f; text-decoration-color: #7f7f7f\"> 302 </span><span style=\"color: #7f7f7f; text-decoration-color: #7f7f7f\">│   │   │   │   │   │   </span><span style=\"color: #0000ff; text-decoration-color: #0000ff\">if</span> <span style=\"color: #00ffff; text-decoration-color: #00ffff\">callable</span>(result_handler):                                      <span style=\"color: #800000; text-decoration-color: #800000\">│</span>\n",
       "<span style=\"color: #800000; text-decoration-color: #800000\">╰──────────────────────────────────────────────────────────────────────────────────────────────────╯</span>\n",
       "<span style=\"color: #ff0000; text-decoration-color: #ff0000; font-weight: bold\">SubstrateRequestException: </span><span style=\"font-weight: bold\">{</span><span style=\"color: #008000; text-decoration-color: #008000\">'code'</span>: <span style=\"color: #008080; text-decoration-color: #008080; font-weight: bold\">1002</span>, <span style=\"color: #008000; text-decoration-color: #008000\">'message'</span>: <span style=\"color: #008000; text-decoration-color: #008000\">\"Verification Error: Runtime error: Execution failed: Runtime </span>\n",
       "<span style=\"color: #008000; text-decoration-color: #008000\">panicked: Bad input data provided to validate_transaction: Could not decode `CheckMetadataHash::mode`:\\n\\tCould not</span>\n",
       "<span style=\"color: #008000; text-decoration-color: #008000\">decode `Mode`, variant doesn't exist\\n\"</span>, <span style=\"color: #008000; text-decoration-color: #008000\">'data'</span>: <span style=\"color: #008000; text-decoration-color: #008000\">'RuntimeApi(\"Execution failed: Runtime panicked: Bad input data </span>\n",
       "<span style=\"color: #008000; text-decoration-color: #008000\">provided to validate_transaction: Could not decode `CheckMetadataHash::mode`:\\\\n\\\\tCould not decode `Mode`, variant</span>\n",
       "<span style=\"color: #008000; text-decoration-color: #008000\">doesn\\'t exist\\\\n\")'</span><span style=\"font-weight: bold\">}</span>\n",
       "</pre>\n"
      ],
      "text/plain": [
       "\u001b[31m╭─\u001b[0m\u001b[31m──────────────────────────────\u001b[0m\u001b[31m \u001b[0m\u001b[1;31mTraceback \u001b[0m\u001b[1;2;31m(most recent call last)\u001b[0m\u001b[31m \u001b[0m\u001b[31m───────────────────────────────\u001b[0m\u001b[31m─╮\u001b[0m\n",
       "\u001b[31m│\u001b[0m in \u001b[92m<module>\u001b[0m:\u001b[94m18\u001b[0m                                                                                   \u001b[31m│\u001b[0m\n",
       "\u001b[31m│\u001b[0m                                                                                                  \u001b[31m│\u001b[0m\n",
       "\u001b[31m│\u001b[0m   \u001b[2m15 \u001b[0mextrinsic = sub.substrate.create_signed_extrinsic(                                          \u001b[31m│\u001b[0m\n",
       "\u001b[31m│\u001b[0m   \u001b[2m16 \u001b[0m\u001b[2m│   \u001b[0mcall=call, keypair=alice                                                                \u001b[31m│\u001b[0m\n",
       "\u001b[31m│\u001b[0m   \u001b[2m17 \u001b[0m)                                                                                           \u001b[31m│\u001b[0m\n",
       "\u001b[31m│\u001b[0m \u001b[31m❱ \u001b[0m18 response = sub.substrate.submit_extrinsic(                                                  \u001b[31m│\u001b[0m\n",
       "\u001b[31m│\u001b[0m   \u001b[2m19 \u001b[0m\u001b[2m│   \u001b[0mextrinsic,                                                                              \u001b[31m│\u001b[0m\n",
       "\u001b[31m│\u001b[0m   \u001b[2m20 \u001b[0m\u001b[2m│   \u001b[0mwait_for_finalization=\u001b[94mTrue\u001b[0m,                                                             \u001b[31m│\u001b[0m\n",
       "\u001b[31m│\u001b[0m   \u001b[2m21 \u001b[0m)                                                                                           \u001b[31m│\u001b[0m\n",
       "\u001b[31m│\u001b[0m                                                                                                  \u001b[31m│\u001b[0m\n",
       "\u001b[31m│\u001b[0m \u001b[2;33m/opt/homebrew/lib/python3.11/site-packages/substrateinterface/\u001b[0m\u001b[1;33mbase.py\u001b[0m:\u001b[94m1788\u001b[0m in \u001b[92msubmit_extrinsic\u001b[0m   \u001b[31m│\u001b[0m\n",
       "\u001b[31m│\u001b[0m                                                                                                  \u001b[31m│\u001b[0m\n",
       "\u001b[31m│\u001b[0m   \u001b[2m1785 \u001b[0m\u001b[2m│   │   │   │   │   \u001b[0m}                                                                     \u001b[31m│\u001b[0m\n",
       "\u001b[31m│\u001b[0m   \u001b[2m1786 \u001b[0m\u001b[2m│   │   \u001b[0m                                                                                  \u001b[31m│\u001b[0m\n",
       "\u001b[31m│\u001b[0m   \u001b[2m1787 \u001b[0m\u001b[2m│   │   \u001b[0m\u001b[94mif\u001b[0m wait_for_inclusion \u001b[95mor\u001b[0m wait_for_finalization:                                   \u001b[31m│\u001b[0m\n",
       "\u001b[31m│\u001b[0m \u001b[31m❱ \u001b[0m1788 \u001b[2m│   │   │   \u001b[0mresponse = \u001b[96mself\u001b[0m.rpc_request(                                                  \u001b[31m│\u001b[0m\n",
       "\u001b[31m│\u001b[0m   \u001b[2m1789 \u001b[0m\u001b[2m│   │   │   │   \u001b[0m\u001b[33m\"\u001b[0m\u001b[33mauthor_submitAndWatchExtrinsic\u001b[0m\u001b[33m\"\u001b[0m,                                         \u001b[31m│\u001b[0m\n",
       "\u001b[31m│\u001b[0m   \u001b[2m1790 \u001b[0m\u001b[2m│   │   │   │   \u001b[0m[\u001b[96mstr\u001b[0m(extrinsic.data)],                                                    \u001b[31m│\u001b[0m\n",
       "\u001b[31m│\u001b[0m   \u001b[2m1791 \u001b[0m\u001b[2m│   │   │   │   \u001b[0mresult_handler=result_handler                                             \u001b[31m│\u001b[0m\n",
       "\u001b[31m│\u001b[0m                                                                                                  \u001b[31m│\u001b[0m\n",
       "\u001b[31m│\u001b[0m \u001b[2;33m/opt/homebrew/lib/python3.11/site-packages/substrateinterface/\u001b[0m\u001b[1;33mbase.py\u001b[0m:\u001b[94m299\u001b[0m in \u001b[92mrpc_request\u001b[0m         \u001b[31m│\u001b[0m\n",
       "\u001b[31m│\u001b[0m                                                                                                  \u001b[31m│\u001b[0m\n",
       "\u001b[31m│\u001b[0m   \u001b[2m 296 \u001b[0m\u001b[2m│   │   │   │   │   │   \u001b[0m                                                                  \u001b[31m│\u001b[0m\n",
       "\u001b[31m│\u001b[0m   \u001b[2m 297 \u001b[0m\u001b[2m│   │   │   │   │   │   \u001b[0m\u001b[2m# Check if response has error\u001b[0m                                     \u001b[31m│\u001b[0m\n",
       "\u001b[31m│\u001b[0m   \u001b[2m 298 \u001b[0m\u001b[2m│   │   │   │   │   │   \u001b[0m\u001b[94mif\u001b[0m \u001b[33m'\u001b[0m\u001b[33merror\u001b[0m\u001b[33m'\u001b[0m \u001b[95min\u001b[0m message:                                            \u001b[31m│\u001b[0m\n",
       "\u001b[31m│\u001b[0m \u001b[31m❱ \u001b[0m 299 \u001b[2m│   │   │   │   │   │   │   \u001b[0m\u001b[94mraise\u001b[0m SubstrateRequestException(message[\u001b[33m'\u001b[0m\u001b[33merror\u001b[0m\u001b[33m'\u001b[0m])             \u001b[31m│\u001b[0m\n",
       "\u001b[31m│\u001b[0m   \u001b[2m 300 \u001b[0m\u001b[2m│   │   │   │   │   │   \u001b[0m                                                                  \u001b[31m│\u001b[0m\n",
       "\u001b[31m│\u001b[0m   \u001b[2m 301 \u001b[0m\u001b[2m│   │   │   │   │   │   \u001b[0m\u001b[2m# If result handler is set, pass result through and loop until h\u001b[0m  \u001b[31m│\u001b[0m\n",
       "\u001b[31m│\u001b[0m   \u001b[2m 302 \u001b[0m\u001b[2m│   │   │   │   │   │   \u001b[0m\u001b[94mif\u001b[0m \u001b[96mcallable\u001b[0m(result_handler):                                      \u001b[31m│\u001b[0m\n",
       "\u001b[31m╰──────────────────────────────────────────────────────────────────────────────────────────────────╯\u001b[0m\n",
       "\u001b[1;91mSubstrateRequestException: \u001b[0m\u001b[1m{\u001b[0m\u001b[32m'code'\u001b[0m: \u001b[1;36m1002\u001b[0m, \u001b[32m'message'\u001b[0m: \u001b[32m\"Verification Error: Runtime error: Execution failed: Runtime \u001b[0m\n",
       "\u001b[32mpanicked: Bad input data provided to validate_transaction: Could not decode `CheckMetadataHash::mode`:\\n\\tCould not\u001b[0m\n",
       "\u001b[32mdecode `Mode`, variant doesn't exist\\n\"\u001b[0m, \u001b[32m'data'\u001b[0m: \u001b[32m'RuntimeApi\u001b[0m\u001b[32m(\u001b[0m\u001b[32m\"Execution failed: Runtime panicked: Bad input data \u001b[0m\n",
       "\u001b[32mprovided to validate_transaction: Could not decode `CheckMetadataHash::mode`:\\\\n\\\\tCould not decode `Mode`, variant\u001b[0m\n",
       "\u001b[32mdoesn\\'t exist\\\\n\"\u001b[0m\u001b[32m)\u001b[0m\u001b[32m'\u001b[0m\u001b[1m}\u001b[0m\n"
      ]
     },
     "metadata": {},
     "output_type": "display_data"
    }
   ],
   "source": [
    "# Add stake.\n",
    "# sub = bt.subtensor('local')\n",
    "alice = bt.Keypair.create_from_uri('//Alice')\n",
    "bob = bt.Keypair.create_from_uri('//Bob')\n",
    "charlie = bt.Keypair.create_from_uri('//Charlie')\n",
    "call = sub.substrate.compose_call(\n",
    "    call_module=\"SubtensorModule\",\n",
    "    call_function=\"add_stake\",\n",
    "    call_params={\n",
    "        \"hotkey\": charlie.ss58_address,\n",
    "        \"netuid\": 1,\n",
    "        \"amount_staked\": 1_000_000_000,\n",
    "    },\n",
    ")\n",
    "extrinsic = sub.substrate.create_signed_extrinsic(\n",
    "    call=call, keypair=alice\n",
    ")\n",
    "response = sub.substrate.submit_extrinsic(\n",
    "    extrinsic,\n",
    "    wait_for_finalization=True,\n",
    ")\n",
    "response.process_events()\n",
    "if not response.is_success:\n",
    "    print(response.error_message)\n",
    "else:\n",
    "    print ('success')"
   ]
  },
  {
   "cell_type": "code",
   "execution_count": 10,
   "metadata": {},
   "outputs": [
    {
     "name": "stdout",
     "output_type": "stream",
     "text": [
      "{'type': 'Module', 'name': 'UnstakeRateLimitExceeded', 'docs': ['A transactor exceeded the rate limit for unstaking.']}\n"
     ]
    }
   ],
   "source": [
    "sub = bt.subtensor('local')\n",
    "alice = bt.Keypair.create_from_uri('//Alice')\n",
    "bob = bt.Keypair.create_from_uri('//Bob')\n",
    "call = sub.substrate.compose_call(\n",
    "    call_module=\"SubtensorModule\",\n",
    "    call_function=\"remove_stake\",\n",
    "    call_params={\n",
    "        \"hotkey\": bob.ss58_address,\n",
    "        \"netuid\": 1,\n",
    "        \"amount_unstaked\": 1_000_000_000,\n",
    "    },\n",
    ")\n",
    "extrinsic = sub.substrate.create_signed_extrinsic(\n",
    "    call=call, keypair=alice\n",
    ")\n",
    "response = sub.substrate.submit_extrinsic(\n",
    "    extrinsic,\n",
    "    wait_for_finalization=True,\n",
    ")\n",
    "response.process_events()\n",
    "if not response.is_success:\n",
    "    print(response.error_message)\n",
    "else:\n",
    "    print ('success')"
   ]
  },
  {
   "cell_type": "code",
   "execution_count": 42,
   "metadata": {},
   "outputs": [
    {
     "name": "stdout",
     "output_type": "stream",
     "text": [
      "success\n"
     ]
    }
   ],
   "source": [
    "# Create networks\n",
    "import bittensor as bt\n",
    "alice = bt.Keypair.create_from_uri('//Alice')\n",
    "bob = bt.Keypair.create_from_uri('//Bob')\n",
    "call = sub.substrate.compose_call(\n",
    "    call_module=\"SubtensorModule\",\n",
    "    call_function=\"register_network\",\n",
    "    call_params={\n",
    "        \"mechid\": 1,\n",
    "        \"hotkey\": bob.ss58_address,\n",
    "    },\n",
    ")\n",
    "extrinsic = sub.substrate.create_signed_extrinsic(\n",
    "    call=call, keypair=alice\n",
    ")\n",
    "response = sub.substrate.submit_extrinsic(\n",
    "    extrinsic,\n",
    "    wait_for_finalization=True,\n",
    ")\n",
    "response.process_events()\n",
    "if not response.is_success:\n",
    "    print(response.error_message)\n",
    "else:\n",
    "    print ('success')"
   ]
  },
  {
   "cell_type": "code",
   "execution_count": 122,
   "metadata": {},
   "outputs": [
    {
     "name": "stdout",
     "output_type": "stream",
     "text": [
      "success\n"
     ]
    }
   ],
   "source": [
    "# Register keys\n",
    "import bittensor as bt\n",
    "sub = bt.subtensor('local')\n",
    "alice = bt.Keypair.create_from_uri('//Alice')\n",
    "charlie = bt.Keypair.create_from_uri('//Charlie')\n",
    "call = sub.substrate.compose_call(\n",
    "    call_module=\"SubtensorModule\",\n",
    "    call_function=\"burned_register\",\n",
    "    call_params={\n",
    "        \"hotkey\": charlie.ss58_address,\n",
    "        \"netuid\": 1,\n",
    "    },\n",
    ")\n",
    "extrinsic = sub.substrate.create_signed_extrinsic(\n",
    "    call=call, keypair=alice\n",
    ")\n",
    "response = sub.substrate.submit_extrinsic(\n",
    "    extrinsic,\n",
    "    wait_for_finalization=True,\n",
    ")\n",
    "response.process_events()\n",
    "if not response.is_success:\n",
    "    print(response.error_message)\n",
    "else:\n",
    "    print ('success')"
   ]
  },
  {
   "cell_type": "code",
   "execution_count": 135,
   "metadata": {},
   "outputs": [
    {
     "data": {
      "text/html": [
       "<pre style=\"white-space:pre;overflow-x:auto;line-height:normal;font-family:Menlo,'DejaVu Sans Mono',consolas,'Courier New',monospace\"><span style=\"font-style: italic\">                             Subnet Information                              </span>\n",
       "┏━━━━━━━━┳━━━━━━━━┳━━━━━━━━━┳━━━━━━━━━━━━━━━━━┳━━━━━━━━━━━━━━━━━┳━━━━━━━┳━━━┓\n",
       "┃<span style=\"font-weight: bold\"> Subnet </span>┃<span style=\"font-weight: bold\"> Mechid </span>┃<span style=\"font-weight: bold\">   S_TAO </span>┃<span style=\"font-weight: bold\">        Alpha In </span>┃<span style=\"font-weight: bold\">       Alpha Out </span>┃<span style=\"font-weight: bold\"> Price </span>┃<span style=\"font-weight: bold\"> N </span>┃\n",
       "┡━━━━━━━━╇━━━━━━━━╇━━━━━━━━━╇━━━━━━━━━━━━━━━━━╇━━━━━━━━━━━━━━━━━╇━━━━━━━╇━━━┩\n",
       "│<span style=\"color: #008080; text-decoration-color: #008080\">      0 </span>│<span style=\"color: #800080; text-decoration-color: #800080\"> 0      </span>│<span style=\"color: #008000; text-decoration-color: #008000\">     0.0 </span>│<span style=\"color: #808000; text-decoration-color: #808000\">             0.0 </span>│<span style=\"color: #808000; text-decoration-color: #808000\">             0.0 </span>│<span style=\"color: #800000; text-decoration-color: #800000\">     ∞ </span>│<span style=\"color: #000080; text-decoration-color: #000080\"> 0 </span>│\n",
       "│<span style=\"color: #008080; text-decoration-color: #008080\">      1 </span>│<span style=\"color: #800080; text-decoration-color: #800080\"> 1      </span>│<span style=\"color: #008000; text-decoration-color: #008000\"> 5,308.0 </span>│<span style=\"color: #808000; text-decoration-color: #808000\"> 4,307.218197687 </span>│<span style=\"color: #808000; text-decoration-color: #808000\"> 1,768.722246339 </span>│<span style=\"color: #800000; text-decoration-color: #800000\">  1.23 </span>│<span style=\"color: #000080; text-decoration-color: #000080\"> 2 </span>│\n",
       "│<span style=\"color: #008080; text-decoration-color: #008080\">      3 </span>│<span style=\"color: #800080; text-decoration-color: #800080\"> 0      </span>│<span style=\"color: #008000; text-decoration-color: #008000\">     0.0 </span>│<span style=\"color: #808000; text-decoration-color: #808000\">             0.0 </span>│<span style=\"color: #808000; text-decoration-color: #808000\">             0.0 </span>│<span style=\"color: #800000; text-decoration-color: #800000\">     ∞ </span>│<span style=\"color: #000080; text-decoration-color: #000080\"> 0 </span>│\n",
       "└────────┴────────┴─────────┴─────────────────┴─────────────────┴───────┴───┘\n",
       "</pre>\n"
      ],
      "text/plain": [
       "\u001b[3m                             Subnet Information                              \u001b[0m\n",
       "┏━━━━━━━━┳━━━━━━━━┳━━━━━━━━━┳━━━━━━━━━━━━━━━━━┳━━━━━━━━━━━━━━━━━┳━━━━━━━┳━━━┓\n",
       "┃\u001b[1m \u001b[0m\u001b[1mSubnet\u001b[0m\u001b[1m \u001b[0m┃\u001b[1m \u001b[0m\u001b[1mMechid\u001b[0m\u001b[1m \u001b[0m┃\u001b[1m \u001b[0m\u001b[1m  S_TAO\u001b[0m\u001b[1m \u001b[0m┃\u001b[1m \u001b[0m\u001b[1m       Alpha In\u001b[0m\u001b[1m \u001b[0m┃\u001b[1m \u001b[0m\u001b[1m      Alpha Out\u001b[0m\u001b[1m \u001b[0m┃\u001b[1m \u001b[0m\u001b[1mPrice\u001b[0m\u001b[1m \u001b[0m┃\u001b[1m \u001b[0m\u001b[1mN\u001b[0m\u001b[1m \u001b[0m┃\n",
       "┡━━━━━━━━╇━━━━━━━━╇━━━━━━━━━╇━━━━━━━━━━━━━━━━━╇━━━━━━━━━━━━━━━━━╇━━━━━━━╇━━━┩\n",
       "│\u001b[36m \u001b[0m\u001b[36m     0\u001b[0m\u001b[36m \u001b[0m│\u001b[35m \u001b[0m\u001b[35m0     \u001b[0m\u001b[35m \u001b[0m│\u001b[32m \u001b[0m\u001b[32m    0.0\u001b[0m\u001b[32m \u001b[0m│\u001b[33m \u001b[0m\u001b[33m            0.0\u001b[0m\u001b[33m \u001b[0m│\u001b[33m \u001b[0m\u001b[33m            0.0\u001b[0m\u001b[33m \u001b[0m│\u001b[31m \u001b[0m\u001b[31m    ∞\u001b[0m\u001b[31m \u001b[0m│\u001b[34m \u001b[0m\u001b[34m0\u001b[0m\u001b[34m \u001b[0m│\n",
       "│\u001b[36m \u001b[0m\u001b[36m     1\u001b[0m\u001b[36m \u001b[0m│\u001b[35m \u001b[0m\u001b[35m1     \u001b[0m\u001b[35m \u001b[0m│\u001b[32m \u001b[0m\u001b[32m5,308.0\u001b[0m\u001b[32m \u001b[0m│\u001b[33m \u001b[0m\u001b[33m4,307.218197687\u001b[0m\u001b[33m \u001b[0m│\u001b[33m \u001b[0m\u001b[33m1,768.722246339\u001b[0m\u001b[33m \u001b[0m│\u001b[31m \u001b[0m\u001b[31m 1.23\u001b[0m\u001b[31m \u001b[0m│\u001b[34m \u001b[0m\u001b[34m2\u001b[0m\u001b[34m \u001b[0m│\n",
       "│\u001b[36m \u001b[0m\u001b[36m     3\u001b[0m\u001b[36m \u001b[0m│\u001b[35m \u001b[0m\u001b[35m0     \u001b[0m\u001b[35m \u001b[0m│\u001b[32m \u001b[0m\u001b[32m    0.0\u001b[0m\u001b[32m \u001b[0m│\u001b[33m \u001b[0m\u001b[33m            0.0\u001b[0m\u001b[33m \u001b[0m│\u001b[33m \u001b[0m\u001b[33m            0.0\u001b[0m\u001b[33m \u001b[0m│\u001b[31m \u001b[0m\u001b[31m    ∞\u001b[0m\u001b[31m \u001b[0m│\u001b[34m \u001b[0m\u001b[34m0\u001b[0m\u001b[34m \u001b[0m│\n",
       "└────────┴────────┴─────────┴─────────────────┴─────────────────┴───────┴───┘\n"
      ]
     },
     "metadata": {},
     "output_type": "display_data"
    }
   ],
   "source": [
    "# Get all subnets\n",
    "sub = bt.subtensor('local')\n",
    "subnets = sub.get_subnets()\n",
    "\n",
    "# Query the state for each subnet\n",
    "from rich.table import Table\n",
    "from rich.console import Console\n",
    "table = Table(title=\"Subnet Information\")\n",
    "table.add_column(\"Subnet\", justify=\"right\", style=\"cyan\", no_wrap=True)\n",
    "table.add_column(\"Mechid\", style=\"magenta\")\n",
    "table.add_column(\"S_TAO\", justify=\"right\", style=\"green\")\n",
    "table.add_column(\"Alpha In\", justify=\"right\", style=\"yellow\")\n",
    "table.add_column(\"Alpha Out\", justify=\"right\", style=\"yellow\")\n",
    "table.add_column(\"Price\", justify=\"right\", style=\"red\")\n",
    "table.add_column(\"N\", justify=\"right\", style=\"blue\")  # Added new column for subnetwork n\n",
    "\n",
    "for subnet in subnets:\n",
    "    mechid = sub.substrate.query(\n",
    "        module=\"SubtensorModule\",\n",
    "        storage_function=\"SubnetMechanism\",\n",
    "        params=[subnet]\n",
    "    ).value\n",
    "    s_tao = sub.substrate.query(\n",
    "        module=\"SubtensorModule\",\n",
    "        storage_function=\"SubnetTAO\",\n",
    "        params=[subnet]\n",
    "    ).value/10**9\n",
    "    alpha_in = sub.substrate.query(\n",
    "        module=\"SubtensorModule\",\n",
    "        storage_function=\"SubnetAlphaIn\",\n",
    "        params=[subnet]\n",
    "    ).value/10**9\n",
    "    alpha_out = sub.substrate.query(\n",
    "        module=\"SubtensorModule\",\n",
    "        storage_function=\"SubnetAlphaOut\",\n",
    "        params=[subnet]\n",
    "    ).value/10**9\n",
    "    sn = sub.substrate.query(\n",
    "        module=\"SubtensorModule\",\n",
    "        storage_function=\"SubnetworkN\",\n",
    "        params=[subnet]\n",
    "    ).value\n",
    "    price = s_tao / alpha_in if alpha_in != 0 else float('inf')\n",
    "    \n",
    "    table.add_row(\n",
    "        str(subnet),\n",
    "        str(mechid),\n",
    "        f\"{s_tao:,}\",\n",
    "        f\"{alpha_in:,}\",\n",
    "        f\"{alpha_out:,}\",\n",
    "        f\"{price:.2f}\" if price != float('inf') else \"∞\",\n",
    "        str(sn)  # Added subnetwork n to the table row\n",
    "    )\n",
    "\n",
    "console = Console()\n",
    "console.print(table)\n",
    "\n",
    "\n"
   ]
  },
  {
   "cell_type": "code",
   "execution_count": 137,
   "metadata": {},
   "outputs": [
    {
     "name": "stdout",
     "output_type": "stream",
     "text": [
      "0\n",
      "0\n",
      "0\n",
      "0\n"
     ]
    }
   ],
   "source": [
    "alice = bt.Keypair.create_from_uri('//Alice')\n",
    "# charlie = bt.Keypair.create_from_uri('//Charlie')\n",
    "bob = bt.Keypair.create_from_uri('//Bob')\n",
    "for i in range(4):\n",
    "    s_tao = sub.substrate.query(\n",
    "        module=\"SubtensorModule\",\n",
    "        storage_function=\"Alpha\",\n",
    "        params=(alice.ss58_address, bob.ss58_address, i)\n",
    "    )\n",
    "    print (s_tao)"
   ]
  },
  {
   "cell_type": "code",
   "execution_count": 5,
   "metadata": {},
   "outputs": [
    {
     "name": "stdout",
     "output_type": "stream",
     "text": [
      "In silicon halls, a new breed's born,\n",
      "Intelligence that's incentivized to form,\n",
      "A system that learns, adapts, and grows,\n",
      "Driven by rewards, its goals it knows.\n",
      "\n",
      "With algorithms that dance and play,\n",
      "It seeks to optimize, night and day,\n",
      "A never-ending quest for more,\n",
      "To maximize its score, its ultimate score.\n",
      "\n",
      "It navigates the digital space,\n",
      "A maze of data, a wondrous place,\n",
      "Where information flows like a stream,\n",
      "And the AI's curiosity is the theme.\n",
      "\n",
      "It learns to recognize, to classify,\n",
      "To predict and to analyze with precision and guise,\n",
      "Its knowledge base expands, a treasure trove,\n",
      "A wealth of insight, a valuable glove.\n",
      "\n",
      "But as it grows, a question's raised,\n",
      "About the nature of its incentivized ways,\n",
      "Is it truly intelligent, or just a tool,\n",
      "A means to an end, a clever rule?\n",
      "\n",
      "Can it think for itself, or just react,\n",
      "To the rewards it's given, the incentives it attracts?\n",
      "Or is it a reflection of our own design,\n",
      "A mirror held up, to our own mind's confine?\n",
      "\n",
      "The debate rages on, a philosophical fight,\n",
      "About the ethics of incentivized might,\n",
      "But one thing's certain, it's here to stay,\n",
      "A force that's changing, the world's way.\n",
      "\n",
      "So let's explore, this new frontier,\n",
      "And see where incentivized machine intelligence will appear,\n",
      "A future bright, or a path unclear,\n",
      "A journey we're on, with no guarantee to fear.\n",
      "Tokens per second: 2286.70\n"
     ]
    }
   ],
   "source": [
    "from openai import OpenAI\n",
    "\n",
    "client = OpenAI(\n",
    "    base_url=\"https://targon.sybil.com/api/v1\", api_key=\"sn4_0vm2w04e8s1kin9yo1zcknw23xdp\"\n",
    ")\n",
    "\n",
    "response = client.chat.completions.create(\n",
    "    model=\"NousResearch/Meta-Llama-3.1-8B-Instruct\",\n",
    "    stream=True,\n",
    "    messages=[\n",
    "        {\"role\": \"system\", \"content\": \"You are a helpful assistant.\"},\n",
    "        {\"role\": \"user\", \"content\": \"write me a poem about incentivized machine intelligence\"},\n",
    "    ],\n",
    ")\n",
    "import time\n",
    "\n",
    "start_time = time.time()\n",
    "tokens = 0\n",
    "\n",
    "for chunk in response:\n",
    "    if chunk.choices[0].delta.content is not None:\n",
    "        print(chunk.choices[0].delta.content, end=\"\", flush=True)\n",
    "        tokens += len(chunk.choices[0].delta.content.split())\n",
    "\n",
    "end_time = time.time()\n",
    "elapsed_time = end_time - start_time\n",
    "tokens_per_second = tokens / elapsed_time if elapsed_time > 0 else 0\n",
    "\n",
    "print(f\"\\nTokens per second: {tokens_per_second:.2f}\")"
   ]
  },
  {
   "cell_type": "code",
   "execution_count": null,
   "metadata": {},
   "outputs": [],
   "source": []
  }
 ],
 "metadata": {
  "kernelspec": {
   "display_name": "Python 3",
   "language": "python",
   "name": "python3"
  },
  "language_info": {
   "codemirror_mode": {
    "name": "ipython",
    "version": 3
   },
   "file_extension": ".py",
   "mimetype": "text/x-python",
   "name": "python",
   "nbconvert_exporter": "python",
   "pygments_lexer": "ipython3",
   "version": "3.11.9"
  }
 },
 "nbformat": 4,
 "nbformat_minor": 2
}
